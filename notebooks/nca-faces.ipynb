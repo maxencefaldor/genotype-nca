{
  "cells": [
    {
      "attachments": {},
      "cell_type": "markdown",
      "metadata": {
        "id": "28S76DVlfCMZ"
      },
      "source": [
        "# Growing Neural Cellular Automata for faces"
      ]
    },
    {
      "attachments": {},
      "cell_type": "markdown",
      "metadata": {},
      "source": [
        "## Imports and Notebook Utilities"
      ]
    },
    {
      "cell_type": "code",
      "execution_count": 14,
      "metadata": {
        "id": "i5wi_r4gyzFr"
      },
      "outputs": [],
      "source": [
        "import os\n",
        "import pickle\n",
        "from functools import partial\n",
        "\n",
        "import numpy as np\n",
        "import pandas as pd\n",
        "import jax\n",
        "import jax.numpy as jnp\n",
        "import flax\n",
        "import flax.linen as nn\n",
        "from flax.training.train_state import TrainState\n",
        "from flax.core.frozen_dict import freeze, unfreeze\n",
        "from flax import traverse_util, serialization\n",
        "import optax\n",
        "import dm_pix as pix\n",
        "\n",
        "import PIL.Image as pil\n",
        "import matplotlib.pyplot as plt\n",
        "import matplotlib.pylab as pl\n",
        "from IPython.display import Image, HTML, clear_output\n",
        "import tqdm"
      ]
    },
    {
      "attachments": {},
      "cell_type": "markdown",
      "metadata": {},
      "source": [
        "## Parameters"
      ]
    },
    {
      "cell_type": "code",
      "execution_count": 15,
      "metadata": {
        "id": "zR6I1JONmWBb"
      },
      "outputs": [],
      "source": [
        "IMG_DIR = \"/project/input/img_align_celeba/\"\n",
        "IMG_SIZE = 32\n",
        "\n",
        "# VAE\n",
        "NUM_FILTERS = 64\n",
        "LATENT_SIZE = 256\n",
        "LEARNING_RATE = 1e-3\n",
        "\n",
        "# NCA\n",
        "GENOTYPE_SIZE = 40 + 10\n",
        "CHANNEL_SIZE = GENOTYPE_SIZE + 64\n",
        "BATCH_SIZE = 32\n",
        "POOL_SIZE = 1024\n",
        "CELL_FIRE_RATE = 0.5\n",
        "\n",
        "EXPERIMENT_TYPE = \"Persistent\"\n",
        "EXPERIMENT_MAP = {\"Growing\":0, \"Persistent\":1, \"Regenerating\":2}\n",
        "EXPERIMENT_N = EXPERIMENT_MAP[EXPERIMENT_TYPE]\n",
        "\n",
        "USE_PATTERN_POOL = [0, 1, 1][EXPERIMENT_N]\n",
        "DAMAGE_N = [0, 0, 3][EXPERIMENT_N]  # Number of patterns to damage in a batch"
      ]
    },
    {
      "cell_type": "markdown",
      "metadata": {},
      "source": [
        "## Variational Autoencoder"
      ]
    },
    {
      "cell_type": "code",
      "execution_count": 18,
      "metadata": {},
      "outputs": [],
      "source": [
        "class Encoder(nn.Module):\n",
        "\tnum_filters: int\n",
        "\tlatent_size: int\n",
        "\n",
        "\t@nn.compact\n",
        "\tdef __call__(self, x, train: bool):\n",
        "\t\tx = nn.relu(nn.Conv(features=self.num_filters, kernel_size=(5, 5), strides=(2, 2), padding=\"SAME\")(x))\n",
        "\t\tx = nn.BatchNorm(use_running_average=not train)(x) # self.num_filters * 16 * 16\n",
        "\n",
        "\t\tx = nn.relu(nn.Conv(features=2*self.num_filters, kernel_size=(5, 5), strides=(2, 2), padding=\"SAME\")(x))\n",
        "\t\tx = nn.BatchNorm(use_running_average=not train)(x) # 2 * self.num_filters * 8 * 8\n",
        "\n",
        "\t\tx = nn.relu(nn.Conv(features=4*self.num_filters, kernel_size=(5, 5), strides=(2, 2), padding=\"SAME\")(x))\n",
        "\t\tx = nn.BatchNorm(use_running_average=not train)(x) # 4 * self.num_filters * 4 * 4\n",
        "\n",
        "\t\tx = x.reshape((x.shape[0], -1))\n",
        "\t\tmean = nn.Dense(self.latent_size)(x)\n",
        "\t\tlog_var = nn.Dense(self.latent_size)(x)\n",
        "\n",
        "\t\treturn mean, log_var\n",
        "\n",
        "class Decoder(nn.Module):\n",
        "\tnum_filters: int\n",
        "\n",
        "\t@nn.compact\n",
        "\tdef __call__(self, z, train: bool):\n",
        "\t\tz = nn.relu(nn.Dense(4 * self.num_filters * 4 * 4)(z))\n",
        "\t\tz = z.reshape((z.shape[0], 4, 4, 4 * self.num_filters))\n",
        "\t\n",
        "\t\tz = nn.relu(nn.ConvTranspose(features=2*self.num_filters, kernel_size=(5, 5), strides=(2, 2), padding=\"SAME\")(z))\n",
        "\t\tz = nn.BatchNorm(use_running_average=not train)(z) # 2 * self.num_filters * 8 * 8\n",
        "\n",
        "\t\tz = nn.relu(nn.ConvTranspose(features=self.num_filters, kernel_size=(5, 5), strides=(2, 2), padding=\"SAME\")(z))\n",
        "\t\tz = nn.BatchNorm(use_running_average=not train)(z) # self.num_filters * 16 * 16\n",
        "\n",
        "\t\tz = nn.ConvTranspose(features=1, kernel_size=(5, 5), strides=(2, 2), padding=\"SAME\")(z)\n",
        "\t\tz = nn.BatchNorm(use_running_average=not train)(z) # 1 * 32 * 32\n",
        "\n",
        "\t\treturn z\n",
        "\n",
        "class VAE(nn.Module):\n",
        "\tlatent_size: int\n",
        "\tnum_filters: int\n",
        "\n",
        "\tdef setup(self):\n",
        "\t\tself.encoder = Encoder(self.latent_size, self.num_filters)\n",
        "\t\tself.decoder = Decoder(self.num_filters)\n",
        "\n",
        "\tdef __call__(self, random_key, x, train):\n",
        "\t\tmean, log_var, z = self.encode(random_key, x, train)\n",
        "\t\trecon = self.decoder(z, train)\n",
        "\t\treturn mean, log_var, recon\n",
        "\n",
        "\tdef encode(self, random_key, x, train):\n",
        "\t\tmean, log_var = self.encoder(x, train)\n",
        "\t\tz = self.reparameterize(random_key, mean, log_var)\n",
        "\t\treturn mean, log_var, z\n",
        "\n",
        "\tdef decode(self, z):\n",
        "\t\treturn self.decoder(z)\n",
        "\n",
        "\tdef generate(self, z):\n",
        "\t\treturn nn.sigmoid(self.decoder(z))\n",
        "\n",
        "\tdef reparameterize(self, random_key, mean, log_var):\n",
        "\t\tstd = jnp.exp(0.5 * log_var)\n",
        "\t\treturn mean + std * jax.random.normal(random_key, log_var.shape)\n",
        "\n",
        "random_key = jax.random.PRNGKey(0)\n",
        "random_key, random_subkey_1, random_subkey_2 = jax.random.split(random_key, 3)\n",
        "vae = VAE(latent_size=LATENT_SIZE, num_filters=NUM_FILTERS)\n",
        "params = vae.init(random_subkey_1, random_subkey_2, jnp.ones((1, IMG_SIZE, IMG_SIZE, 1)), train=True)\n",
        "\n",
        "state = TrainState.create(\n",
        "\tapply_fn=vae.apply,\n",
        "\tparams=params,\n",
        "\ttx=optax.adam(LEARNING_RATE),\n",
        ")"
      ]
    },
    {
      "cell_type": "code",
      "execution_count": 17,
      "metadata": {},
      "outputs": [],
      "source": [
        "@jax.vmap\n",
        "def kl_divergence(mean, log_var):\n",
        "\treturn -0.5 * jnp.sum(1 + log_var - jnp.square(mean) - jnp.exp(log_var))\n",
        "\n",
        "@jax.vmap\n",
        "def binary_cross_entropy_with_logits(logits, labels):\n",
        "\tlogits = nn.log_sigmoid(logits)\n",
        "\treturn -jnp.sum(labels * logits + (1. - labels) * jnp.log(-jnp.expm1(logits)))"
      ]
    },
    {
      "cell_type": "code",
      "execution_count": null,
      "metadata": {},
      "outputs": [],
      "source": [
        "def compute_metrics(recon, x, mean, logvar):\n",
        "\tbce_loss = binary_cross_entropy_with_logits(recon, x).mean()\n",
        "\tkld_loss = kl_divergence(mean, logvar).mean()\n",
        "\treturn {\n",
        "\t\t\"bce\": bce_loss,\n",
        "\t\t\"kld\": kld_loss,\n",
        "\t\t\"loss\": bce_loss + kld_loss}\n",
        "\n",
        "\n",
        "def train_step(random_key, train_state, batch):\n",
        "\n",
        "\tdef loss_fn(params):\n",
        "\t\tmean, log_var, recon = train_state.apply_fn(params, random_key, batch)\n",
        "\n",
        "\t\tbce_loss = binary_cross_entropy_with_logits(recon, batch).mean()\n",
        "\t\tkld_loss = kl_divergence(mean, log_var).mean()\n",
        "\t\tloss = bce_loss + kld_loss\n",
        "\n",
        "\t\treturn loss\n",
        "\n",
        "\tgrads = jax.grad(loss_fn)(train_state.params)\n",
        "\treturn train_state.apply_gradients(grads=grads)\n",
        "\n",
        "def eval_f(random_key, train_state, x, z):\n",
        "\tmean, log_var, recon = train_state.apply_fn(train_state.params, random_key, x)\n",
        "\tcomparison = jnp.concatenate([x[:8].reshape(-1, IMG_SIZE, IMG_SIZE, 1), recon[:8].reshape(-1, IMG_SIZE, IMG_SIZE, 1)])\n",
        "\n",
        "\tgenerate_images = train_state.apply_fn(z, method=vae.generate)\n",
        "\tgenerate_images = generate_images.reshape(-1, IMG_SIZE, IMG_SIZE, 1)\n",
        "\tmetrics = compute_metrics(recon, x, mean, log_var)\n",
        "\treturn metrics, comparison, generate_images"
      ]
    },
    {
      "cell_type": "code",
      "execution_count": null,
      "metadata": {},
      "outputs": [],
      "source": [
        "random_key, random_subkey = jax.random.split(random_key, 2)\n",
        "\n",
        "rng, z_key, eval_rng = random.split(rng, 3)\n",
        "z = random.normal(z_key, (64, latents))\n",
        "\n",
        "steps_per_epoch = ds_builder.info.splits[\"train\"].num_examples // batch_size\n",
        "\n",
        "for epoch in range(num_epochs):\n",
        "for _ in range(steps_per_epoch):\n",
        "batch = next(train_ds)\n",
        "rng, key = random.split(rng)\n",
        "state = train_step(state, batch, key, latents)\n",
        "\n",
        "metrics, comparison, sample = eval_f(state.params, test_ds, z, eval_rng,\n",
        "            latents)\n",
        "vae_utils.save_image(\n",
        "comparison, f'results/reconstruction_{epoch}.png', nrow=8)\n",
        "vae_utils.save_image(sample, f'results/sample_{epoch}.png', nrow=8)\n",
        "\n",
        "print('eval epoch: {}, loss: {:.4f}, BCE: {:.4f}, KLD: {:.4f}'.format(\n",
        "epoch + 1, metrics['loss'], metrics['bce'], metrics['kld']\n",
        "))"
      ]
    },
    {
      "cell_type": "markdown",
      "metadata": {},
      "source": [
        "# Load dataset"
      ]
    },
    {
      "cell_type": "markdown",
      "metadata": {},
      "source": [
        "## Attributes"
      ]
    },
    {
      "cell_type": "code",
      "execution_count": 3,
      "metadata": {},
      "outputs": [],
      "source": [
        "# Load list_attr_celeba.txt file into a pandas DataFrame\n",
        "df_attr_celeba = pd.read_csv(\"/project/input/annotations/list_attr_celeba.txt\", sep=\"\\s+\", skiprows=1)\n",
        "df_attr_celeba.replace(to_replace=-1, value=0, inplace=True) # replace -1 by 0\n",
        "\n",
        "attr = jnp.array(df_attr_celeba)"
      ]
    },
    {
      "cell_type": "markdown",
      "metadata": {},
      "source": [
        "## Landmarks"
      ]
    },
    {
      "cell_type": "code",
      "execution_count": 4,
      "metadata": {},
      "outputs": [],
      "source": [
        "# Load list_landmarks_align_celeba.txt file into a pandas DataFrame\n",
        "df_landmarks_align_celeba = pd.read_csv(\"/project/input/annotations/list_landmarks_align_celeba.txt\", sep=\"\\s+\", skiprows=1)\n",
        "\n",
        "# Normalize landmarks\n",
        "df_landmarks_align_celeba[\"lefteye_y\"] = df_landmarks_align_celeba[\"lefteye_y\"] - 20\n",
        "df_landmarks_align_celeba[\"righteye_y\"] = df_landmarks_align_celeba[\"righteye_y\"] - 20\n",
        "df_landmarks_align_celeba[\"nose_y\"] = df_landmarks_align_celeba[\"nose_y\"] - 20\n",
        "df_landmarks_align_celeba[\"leftmouth_y\"] = df_landmarks_align_celeba[\"leftmouth_y\"] - 20\n",
        "df_landmarks_align_celeba[\"rightmouth_y\"] = df_landmarks_align_celeba[\"rightmouth_y\"] - 20\n",
        "\n",
        "df_landmarks_align_celeba /= 178/IMG_SIZE\n",
        "\n",
        "landmarks = jnp.array(df_landmarks_align_celeba)\n",
        "landmarks = jax.nn.standardize(landmarks, axis=0)"
      ]
    },
    {
      "cell_type": "markdown",
      "metadata": {},
      "source": [
        "## Create genotypes"
      ]
    },
    {
      "cell_type": "code",
      "execution_count": 5,
      "metadata": {},
      "outputs": [],
      "source": [
        "genotypes = jnp.concatenate([attr, landmarks], axis=-1)"
      ]
    },
    {
      "cell_type": "markdown",
      "metadata": {},
      "source": [
        "## Load images"
      ]
    },
    {
      "cell_type": "code",
      "execution_count": 6,
      "metadata": {},
      "outputs": [],
      "source": [
        "def get_img(img_path) -> jnp.ndarray:\n",
        "\timg = pil.open(img_path).convert(\"L\")\n",
        "\timg = jnp.expand_dims(jnp.array(img, dtype=np.float32), axis=-1) / 255.\n",
        "\timg = pix.resize_with_crop_or_pad(img, 178, 178)\n",
        "\timg = jax.image.resize(img, (IMG_SIZE, IMG_SIZE, 1), method=\"linear\")\n",
        "\treturn img\n",
        "\n",
        "def standardize(imgs: jnp.ndarray) -> jnp.ndarray:\n",
        "\timgs_mean = jnp.mean(imgs, axis=(1, 2))\n",
        "\timgs_std = jnp.std(imgs, axis=(1, 2))\n",
        "\timgs_standardized = (imgs - imgs_mean[:, None, None]) / imgs_std[:, None, None]\n",
        "\treturn imgs_standardized, imgs_mean, imgs_std\n",
        "\n",
        "def unstandardize(imgs_standardized: jnp.ndarray, imgs_mean: jnp.ndarray, imgs_std: jnp.ndarray) -> jnp.ndarray:\n",
        "\treturn imgs_mean[:, None, None] + imgs_std[:, None, None] * imgs_standardized\n",
        "\n",
        "def jnp2pil(img):\n",
        "\timg = img[:, :, 0]\n",
        "\timg = pil.fromarray(np.asarray(img * 255.).astype(np.uint8), \"L\")\n",
        "\treturn img\n",
        "\n",
        "def imshow(img: jnp.ndarray) -> None:\n",
        "\t\"\"\"Shows the input image using PIL/Pillow backend.\"\"\"\n",
        "\timg = jnp2pil(img)\n",
        "\tdisplay(img)\n",
        "\n",
        "def imwrite(f, a, fmt=None):\n",
        "\ta = np.asarray(a)\n",
        "\tif isinstance(f, str):\n",
        "\t\tfmt = f.rsplit(\".\", 1)[-1].lower()\n",
        "\t\tif fmt == \"jpg\":\n",
        "\t\t\tfmt = \"jpeg\"\n",
        "\t\tf = open(f, \"wb\")\n",
        "\tjnp2pil(a).save(f, fmt, quality=95)\n",
        "\n",
        "def tile2d(a, w=None):\n",
        "\ta = np.asarray(a)\n",
        "\tif w is None:\n",
        "\t\tw = int(np.ceil(np.sqrt(len(a))))\n",
        "\tth, tw = a.shape[1:3]\n",
        "\tpad = (w-len(a))%w\n",
        "\ta = np.pad(a, [(0, pad)]+[(0, 0)]*(a.ndim-1), \"constant\")\n",
        "\th = len(a)//w\n",
        "\ta = a.reshape([h, w]+list(a.shape[1:]))\n",
        "\ta = np.rollaxis(a, 2, 1).reshape([th*h, tw*w]+list(a.shape[4:]))\n",
        "\treturn a\n",
        "\n",
        "def zoom(img, scale=4):\n",
        "\timg = np.repeat(img, scale, 0)\n",
        "\timg = np.repeat(img, scale, 1)\n",
        "\treturn img\n",
        "\n",
        "class VideoWriter:\n",
        "\tdef __init__(self, filename, fps=30.0, **kw):\n",
        "\t\tself.writer = None\n",
        "\t\tself.params = dict(filename=filename, fps=fps, **kw)\n",
        "\n",
        "\tdef add(self, img):\n",
        "\t\timg = np.asarray(img)\n",
        "\t\tif self.writer is None:\n",
        "\t\t\th, w = img.shape[:2]\n",
        "\t\t\tself.writer = FFMPEG_VideoWriter(size=(w, h), **self.params)\n",
        "\t\tif img.dtype in [np.float32, np.float64]:\n",
        "\t\t\timg = np.uint8(img.clip(0, 1)*255)\n",
        "\t\tif len(img.shape) == 2:\n",
        "\t\t\timg = np.repeat(img[..., None], 3, -1)\n",
        "\t\tself.writer.write_frame(img)\n",
        "\n",
        "\tdef close(self):\n",
        "\t\tif self.writer:\n",
        "\t\t\tself.writer.close()\n",
        "\n",
        "\tdef __enter__(self):\n",
        "\t\treturn self\n",
        "\n",
        "\tdef __exit__(self, *kw):\n",
        "\t\tself.close()"
      ]
    },
    {
      "cell_type": "code",
      "execution_count": 7,
      "metadata": {},
      "outputs": [
        {
          "name": "stderr",
          "output_type": "stream",
          "text": [
            "100%|██████████| 202599/202599 [03:43<00:00, 906.02it/s] \n"
          ]
        }
      ],
      "source": [
        "imgs = []\n",
        "for index, row in tqdm.tqdm(df_attr_celeba.iterrows(), total=df_attr_celeba.shape[0]):\n",
        "\timgs.append(get_img(IMG_DIR + index))\n",
        "imgs = jnp.stack(imgs)"
      ]
    },
    {
      "cell_type": "code",
      "execution_count": 8,
      "metadata": {},
      "outputs": [],
      "source": [
        "imgs_standardized, imgs_mean, imgs_std = imgs, jnp.zeros((imgs.shape[0], 1)), jnp.ones((imgs.shape[0], 1))"
      ]
    },
    {
      "cell_type": "code",
      "execution_count": 9,
      "metadata": {},
      "outputs": [],
      "source": [
        "imgs_standardized, imgs_mean, imgs_std = standardize(imgs)"
      ]
    },
    {
      "cell_type": "code",
      "execution_count": 10,
      "metadata": {},
      "outputs": [],
      "source": [
        "imgs_standardized, imgs_mean, imgs_std = imgs_standardized[:3], imgs_mean[:3], imgs_std[:3]"
      ]
    },
    {
      "attachments": {},
      "cell_type": "markdown",
      "metadata": {},
      "source": [
        "## CA Model and Utilities"
      ]
    },
    {
      "cell_type": "code",
      "execution_count": 11,
      "metadata": {
        "id": "lCbPFbI_zosW"
      },
      "outputs": [],
      "source": [
        "def to_grey_alpha(x):\n",
        "\treturn x[..., :2]\n",
        "\n",
        "def to_alpha(x):\n",
        "\treturn jnp.clip(x[..., 1:2], a_min=0.0, a_max=1.0)\n",
        "\n",
        "def to_grey(x):\n",
        "\t# assume rgb premultiplied by alpha\n",
        "\trgb, a = x[..., :1], to_alpha(x)\n",
        "\treturn 1.0-a+rgb\n",
        "\n",
        "@jax.jit\n",
        "def get_living_mask(x):\n",
        "\talpha = x[..., 1:2]\n",
        "\treturn nn.max_pool(alpha, window_shape=(3, 3), strides=(1, 1), padding=\"SAME\") > 0.1\n",
        "\n",
        "@partial(jax.jit)\n",
        "def make_seed(genotype):\n",
        "\tx = jnp.zeros((IMG_SIZE, IMG_SIZE, CHANNEL_SIZE))\n",
        "\tx = x.at[IMG_SIZE//2, IMG_SIZE//2, 1:].set(1.0)\n",
        "\treturn x.at[IMG_SIZE//2, IMG_SIZE//2, -genotype.shape[0]:].set(genotype)\n",
        "\n",
        "class CAModel(nn.Module):\n",
        "\tchannel_size = CHANNEL_SIZE\n",
        "\tfire_rate = CELL_FIRE_RATE\n",
        "\n",
        "\t@nn.compact\n",
        "\tdef __call__(self, random_key, x, step_size=1.0):\n",
        "\t\tpre_life_mask = get_living_mask(x)\n",
        "\n",
        "\t\t# Perceive with depthwise convolution\n",
        "\t\ty = nn.Conv(features=3*x.shape[-1], kernel_size=(3, 3), padding=\"SAME\", feature_group_count=x.shape[-1], use_bias=False, name=\"perceive\")(x)\n",
        "\n",
        "\t\t# Update\n",
        "\t\tdx = nn.relu(nn.Conv(features=256, kernel_size=(1, 1))(y))\n",
        "\t\tdx = nn.Conv(features=self.channel_size, kernel_size=(1, 1), kernel_init=nn.initializers.zeros)(dx) * step_size\n",
        "\t\tupdate_mask = jax.random.uniform(random_key, shape=(*x.shape[:-1], 1), minval=0., maxval=1.) <= self.fire_rate\n",
        "\t\tx += dx * update_mask\n",
        "\n",
        "\t\tpost_life_mask = get_living_mask(x)\n",
        "\t\tlife_mask = pre_life_mask & post_life_mask\n",
        "\t\treturn x * life_mask\n",
        "\n",
        "\t@partial(jax.jit, static_argnames=(\"self\",))\n",
        "\tdef _get_kernel(self, angle=0.):\n",
        "\t\tidentify = jnp.array([0., 1., 0.])\n",
        "\t\tidentify = jnp.outer(identify, identify)\n",
        "\t\tdx = jnp.outer(jnp.array([1., 2., 1.]), jnp.array([-1., 0., 1.])) / 8.0  # Sobel filter\n",
        "\t\tdy = dx.T\n",
        "\t\tc, s = jnp.cos(angle), jnp.sin(angle)\n",
        "\t\tkernel = jnp.stack([identify, c*dx-s*dy, s*dx+c*dy], axis=-1)[:, :, None, :]\n",
        "\t\tkernel = jnp.tile(kernel, (1, 1, 1, self.channel_size))\n",
        "\t\treturn kernel\n",
        "\n",
        "\tdef set_kernel(self, params, angle=0.):\n",
        "\t\tkernel = self._get_kernel(angle)\n",
        "\t\tparams = unfreeze(params)\n",
        "\t\tparams[\"params\"][\"perceive\"][\"kernel\"] = kernel\n",
        "\t\tparams = freeze(params)\n",
        "\t\treturn params\n",
        "\n",
        "\tdef get_mask(self, params):\n",
        "\t\tflat_params = traverse_util.flatten_dict(params, sep=\"/\")\n",
        "\t\tflat_params = dict.fromkeys(flat_params, False)\n",
        "\n",
        "\t\tfor key in flat_params:\n",
        "\t\t\tif \"perceive\" in key:\n",
        "\t\t\t\tflat_params[key] = True\n",
        "\t\treturn freeze(traverse_util.unflatten_dict(flat_params, sep=\"/\"))"
      ]
    },
    {
      "attachments": {},
      "cell_type": "markdown",
      "metadata": {
        "id": "xDX5HL7VLd0z"
      },
      "source": [
        "# Training"
      ]
    },
    {
      "attachments": {},
      "cell_type": "markdown",
      "metadata": {},
      "source": [
        "## Train Utilities (SamplePool, Model Export, Damage)"
      ]
    },
    {
      "cell_type": "code",
      "execution_count": 12,
      "metadata": {
        "id": "IeWf6HeTe8kM"
      },
      "outputs": [],
      "source": [
        "class SamplePool(flax.struct.PyTreeNode):\n",
        "\tindices: jnp.ndarray\n",
        "\tsamples: jnp.ndarray\n",
        "\ttargets: jnp.ndarray\n",
        "\n",
        "\t@classmethod\n",
        "\tdef init(cls, random_key):\n",
        "\t\tindices = jax.random.randint(random_key, (POOL_SIZE,), minval=0, maxval=imgs_standardized.shape[0])\n",
        "\t\tseeds = jax.vmap(make_seed)(genotypes[indices])\n",
        "\t\ttargets = jnp.take(imgs_standardized, indices, axis=0)\n",
        "\t\treturn cls(indices=indices, samples=seeds, targets=targets)\n",
        "\n",
        "\t@partial(jax.jit, static_argnames=(\"batch_size\",))\n",
        "\tdef sample(self, random_key, batch_size):\n",
        "\t\tidx = jax.random.choice(random_key, POOL_SIZE, shape=(batch_size,), replace=False)\n",
        "\t\tindices = jnp.take(self.indices, idx, axis=0)\n",
        "\t\tsamples = jnp.take(self.samples, idx, axis=0)\n",
        "\t\ttargets = jnp.take(self.targets, idx, axis=0)\n",
        "\t\treturn idx, indices, samples, targets\n",
        "\n",
        "\t@jax.jit\n",
        "\tdef commit(self, idx, indices, samples, targets):\n",
        "\t\tindices = self.indices.at[idx].set(indices)\n",
        "\t\tsamples = self.samples.at[idx].set(samples)\n",
        "\t\ttargets = self.targets.at[idx].set(targets)\n",
        "\t\treturn self.replace(indices=indices, samples=samples, targets=targets)\n",
        "\n",
        "def make_circle_masks(random_key, n, h, w):\n",
        "\tx = jnp.linspace(-1.0, 1.0, w)[None, None, :]\n",
        "\ty = jnp.linspace(-1.0, 1.0, h)[None, :, None]\n",
        "\trandom_key_1, random_key_2 = jax.random.split(random_key)\n",
        "\tcenter = jax.random.uniform(random_key_1, shape=(2, n, 1, 1), minval=-0.5, maxval=0.5)\n",
        "\tr = jax.random.uniform(random_key_2, shape=(n, 1, 1), minval=0.1, maxval=0.4)\n",
        "\tx, y = (x-center[0])/r, (y-center[1])/r\n",
        "\tmask = x*x+y*y < 1.0\n",
        "\treturn mask\n",
        "\n",
        "def export_model(params, base_fn):\n",
        "    state_dict = serialization.to_state_dict(params)\n",
        "    with open(base_fn, \"wb\") as params_file:\n",
        "        pickle.dump(state_dict, params_file)\n",
        "\n",
        "def generate_pool_figures(pool, step_i):\n",
        "\tindices = pool.indices[:49]\n",
        "\tsamples = pool.samples[:49]\n",
        "\ttiled_pool = tile2d(to_grey(unstandardize(samples, imgs_mean[indices], imgs_std[indices])))\n",
        "\tfade = np.linspace(1.0, 0.0, 72)\n",
        "\tones = np.ones(72)\n",
        "\ttiled_pool[:, :72] += (-tiled_pool[:, :72] + ones[None, :, None]) * fade[None, :, None]\n",
        "\ttiled_pool[:, -72:] += (-tiled_pool[:, -72:] + ones[None, :, None]) * fade[None, ::-1, None]\n",
        "\ttiled_pool[:72, :] += (-tiled_pool[:72, :] + ones[:, None, None]) * fade[:, None, None]\n",
        "\ttiled_pool[-72:, :] += (-tiled_pool[-72:, :] + ones[:, None, None]) * fade[::-1, None, None]\n",
        "\timwrite(\"/project/output/train_log/%04d_pool.jpg\"%step_i, tiled_pool)\n",
        "\n",
        "def visualize_batch(samples, samples_, targets, step_i):\n",
        "\tvis0 = np.hstack(np.array(to_grey(samples)))\n",
        "\tvis1 = np.hstack(np.array(to_grey(samples_)))\n",
        "\tvis2 = np.hstack(np.array(targets))\n",
        "\tvis = np.vstack([vis0, vis1, vis2])\n",
        "\timwrite(\"/project/output/train_log/batches_%04d.jpg\"%step_i, vis)\n",
        "\timshow(vis)\n",
        "\n",
        "def plot_loss(loss_log):\n",
        "\tpl.figure(figsize=(10, 4))\n",
        "\tpl.title(\"Loss history (log10)\")\n",
        "\tpl.plot(np.log10(loss_log), \".\", alpha=0.1)\n",
        "\tpl.show()"
      ]
    },
    {
      "attachments": {},
      "cell_type": "markdown",
      "metadata": {},
      "source": [
        "## Initialize Training"
      ]
    },
    {
      "cell_type": "code",
      "execution_count": 13,
      "metadata": {
        "id": "ak5rBmbxmHV7"
      },
      "outputs": [
        {
          "name": "stderr",
          "output_type": "stream",
          "text": [
            "WARNING:py.warnings:/usr/local/lib/python3.8/dist-packages/optax/_src/combine.py:129: FutureWarning: jax.tree_leaves is deprecated, and will be removed in a future release. Use jax.tree_util.tree_leaves instead.\n",
            "  label_set = set(jax.tree_leaves(labels))\n",
            "\n"
          ]
        }
      ],
      "source": [
        "random_key = jax.random.PRNGKey(42)\n",
        "\n",
        "genotype = genotypes[0]\n",
        "img = imgs_standardized[0]\n",
        "seed = make_seed(genotype)\n",
        "\n",
        "def loss_f(prediction, target):\n",
        "\treturn jnp.mean(jnp.square(to_grey_alpha(prediction) - jnp.concatenate([target, jnp.ones_like(target)], axis=-1)), axis=(-1, -2, -3))\n",
        "\n",
        "ca = CAModel()\n",
        "random_key, random_subkey_1, random_subkey_2 = jax.random.split(random_key, 3)\n",
        "params = ca.init(random_subkey_1, random_subkey_2, seed)\n",
        "params = ca.set_kernel(params)\n",
        "\n",
        "loss_log = []\n",
        "\n",
        "lr = 2e-3\n",
        "lr_sched = optax.linear_schedule(init_value=lr, end_value=0.1*lr, transition_steps=2000)\n",
        "trainer = optax.adam(learning_rate=lr_sched)\n",
        "\n",
        "# zero update\n",
        "def zero_grads():\n",
        "\tdef init_fn(_):\n",
        "\t\treturn ()\n",
        "\n",
        "\tdef update_fn(updates, state, params=None):\n",
        "\t\treturn jax.jax.tree_util.tree_map(jnp.zeros_like, updates), ()\n",
        "\treturn optax.GradientTransformation(init_fn, update_fn)\n",
        "\n",
        "tx = optax.multi_transform({False: optax.adam(learning_rate=lr_sched),\n",
        "\t\t\t    \t\t\tTrue: zero_grads()}, ca.get_mask(params))\n",
        "\n",
        "train_state = TrainState.create(\n",
        "\tapply_fn=ca.apply,\n",
        "\tparams=params,\n",
        "\ttx=tx)\n",
        "\n",
        "loss0 = loss_f(seed, img)\n",
        "\n",
        "random_key, random_subkey = jax.random.split(random_key)\n",
        "pool = SamplePool.init(random_subkey)\n",
        "\n",
        "!mkdir -p /project/output/train_log && rm -f /project/output/train_log/*"
      ]
    },
    {
      "attachments": {},
      "cell_type": "markdown",
      "metadata": {},
      "source": [
        "## Training Loop"
      ]
    },
    {
      "cell_type": "code",
      "execution_count": 14,
      "metadata": {
        "id": "QzP_vDchq0d9"
      },
      "outputs": [
        {
          "data": {
            "image/png": "[encoded data removed]",
            "text/plain": [
              "<PIL.Image.Image image mode=L size=1024x96>"
            ]
          },
          "metadata": {},
          "output_type": "display_data"
        },
        {
          "data": {
            "image/png": "[encoded data removed]",
            "text/plain": [
              "<Figure size 720x288 with 1 Axes>"
            ]
          },
          "metadata": {
            "needs_background": "light"
          },
          "output_type": "display_data"
        },
        {
          "name": "stdout",
          "output_type": "stream",
          "text": [
            " step: 3800, log10(loss): -1.443"
          ]
        },
        {
          "ename": "KeyboardInterrupt",
          "evalue": "",
          "output_type": "error",
          "traceback": [
            "\u001b[0;31m---------------------------------------------------------------------------\u001b[0m",
            "\u001b[0;31mKeyboardInterrupt\u001b[0m                         Traceback (most recent call last)",
            "\u001b[1;32m/project/notebooks/nca-faces.ipynb Cell 27\u001b[0m in \u001b[0;36m<cell line: 25>\u001b[0;34m()\u001b[0m\n\u001b[1;32m     <a href='vscode-notebook-cell://ssh-remote%2Bneural-cellular-automata~cedar/project/notebooks/nca-faces.ipynb#X35sdnNjb2RlLXJlbW90ZQ%3D%3D?line=53'>54</a>\u001b[0m loss_log\u001b[39m.\u001b[39mappend(loss)\n\u001b[1;32m     <a href='vscode-notebook-cell://ssh-remote%2Bneural-cellular-automata~cedar/project/notebooks/nca-faces.ipynb#X35sdnNjb2RlLXJlbW90ZQ%3D%3D?line=55'>56</a>\u001b[0m \u001b[39mif\u001b[39;00m step_i \u001b[39m%\u001b[39m \u001b[39m10\u001b[39m \u001b[39m==\u001b[39m \u001b[39m0\u001b[39m:\n\u001b[0;32m---> <a href='vscode-notebook-cell://ssh-remote%2Bneural-cellular-automata~cedar/project/notebooks/nca-faces.ipynb#X35sdnNjb2RlLXJlbW90ZQ%3D%3D?line=56'>57</a>\u001b[0m \tgenerate_pool_figures(pool, step_i)\n\u001b[1;32m     <a href='vscode-notebook-cell://ssh-remote%2Bneural-cellular-automata~cedar/project/notebooks/nca-faces.ipynb#X35sdnNjb2RlLXJlbW90ZQ%3D%3D?line=57'>58</a>\u001b[0m \u001b[39mif\u001b[39;00m step_i \u001b[39m%\u001b[39m \u001b[39m100\u001b[39m \u001b[39m==\u001b[39m \u001b[39m0\u001b[39m:\n\u001b[1;32m     <a href='vscode-notebook-cell://ssh-remote%2Bneural-cellular-automata~cedar/project/notebooks/nca-faces.ipynb#X35sdnNjb2RlLXJlbW90ZQ%3D%3D?line=58'>59</a>\u001b[0m \tclear_output()\n",
            "\u001b[1;32m/project/notebooks/nca-faces.ipynb Cell 27\u001b[0m in \u001b[0;36mgenerate_pool_figures\u001b[0;34m(pool, step_i)\u001b[0m\n\u001b[1;32m     <a href='vscode-notebook-cell://ssh-remote%2Bneural-cellular-automata~cedar/project/notebooks/nca-faces.ipynb#X35sdnNjb2RlLXJlbW90ZQ%3D%3D?line=43'>44</a>\u001b[0m indices \u001b[39m=\u001b[39m pool\u001b[39m.\u001b[39mindices[:\u001b[39m49\u001b[39m]\n\u001b[1;32m     <a href='vscode-notebook-cell://ssh-remote%2Bneural-cellular-automata~cedar/project/notebooks/nca-faces.ipynb#X35sdnNjb2RlLXJlbW90ZQ%3D%3D?line=44'>45</a>\u001b[0m samples \u001b[39m=\u001b[39m pool\u001b[39m.\u001b[39msamples[:\u001b[39m49\u001b[39m]\n\u001b[0;32m---> <a href='vscode-notebook-cell://ssh-remote%2Bneural-cellular-automata~cedar/project/notebooks/nca-faces.ipynb#X35sdnNjb2RlLXJlbW90ZQ%3D%3D?line=45'>46</a>\u001b[0m tiled_pool \u001b[39m=\u001b[39m tile2d(to_grey(unstandardize(samples, imgs_mean[indices], imgs_std[indices])))\n\u001b[1;32m     <a href='vscode-notebook-cell://ssh-remote%2Bneural-cellular-automata~cedar/project/notebooks/nca-faces.ipynb#X35sdnNjb2RlLXJlbW90ZQ%3D%3D?line=46'>47</a>\u001b[0m fade \u001b[39m=\u001b[39m np\u001b[39m.\u001b[39mlinspace(\u001b[39m1.0\u001b[39m, \u001b[39m0.0\u001b[39m, \u001b[39m72\u001b[39m)\n\u001b[1;32m     <a href='vscode-notebook-cell://ssh-remote%2Bneural-cellular-automata~cedar/project/notebooks/nca-faces.ipynb#X35sdnNjb2RlLXJlbW90ZQ%3D%3D?line=47'>48</a>\u001b[0m ones \u001b[39m=\u001b[39m np\u001b[39m.\u001b[39mones(\u001b[39m72\u001b[39m)\n",
            "\u001b[1;32m/project/notebooks/nca-faces.ipynb Cell 27\u001b[0m in \u001b[0;36mtile2d\u001b[0;34m(a, w)\u001b[0m\n\u001b[1;32m     <a href='vscode-notebook-cell://ssh-remote%2Bneural-cellular-automata~cedar/project/notebooks/nca-faces.ipynb#X35sdnNjb2RlLXJlbW90ZQ%3D%3D?line=35'>36</a>\u001b[0m \u001b[39mdef\u001b[39;00m \u001b[39mtile2d\u001b[39m(a, w\u001b[39m=\u001b[39m\u001b[39mNone\u001b[39;00m):\n\u001b[0;32m---> <a href='vscode-notebook-cell://ssh-remote%2Bneural-cellular-automata~cedar/project/notebooks/nca-faces.ipynb#X35sdnNjb2RlLXJlbW90ZQ%3D%3D?line=36'>37</a>\u001b[0m \ta \u001b[39m=\u001b[39m np\u001b[39m.\u001b[39;49masarray(a)\n\u001b[1;32m     <a href='vscode-notebook-cell://ssh-remote%2Bneural-cellular-automata~cedar/project/notebooks/nca-faces.ipynb#X35sdnNjb2RlLXJlbW90ZQ%3D%3D?line=37'>38</a>\u001b[0m \t\u001b[39mif\u001b[39;00m w \u001b[39mis\u001b[39;00m \u001b[39mNone\u001b[39;00m:\n\u001b[1;32m     <a href='vscode-notebook-cell://ssh-remote%2Bneural-cellular-automata~cedar/project/notebooks/nca-faces.ipynb#X35sdnNjb2RlLXJlbW90ZQ%3D%3D?line=38'>39</a>\u001b[0m \t\tw \u001b[39m=\u001b[39m \u001b[39mint\u001b[39m(np\u001b[39m.\u001b[39mceil(np\u001b[39m.\u001b[39msqrt(\u001b[39mlen\u001b[39m(a))))\n",
            "File \u001b[0;32m/usr/local/lib/python3.8/dist-packages/jax/_src/device_array.py:266\u001b[0m, in \u001b[0;36m__array__\u001b[0;34m(self, dtype, context)\u001b[0m\n\u001b[1;32m    265\u001b[0m \u001b[39mdef\u001b[39;00m \u001b[39m__array__\u001b[39m(\u001b[39mself\u001b[39m, dtype\u001b[39m=\u001b[39m\u001b[39mNone\u001b[39;00m, context\u001b[39m=\u001b[39m\u001b[39mNone\u001b[39;00m):\n\u001b[0;32m--> 266\u001b[0m   \u001b[39mreturn\u001b[39;00m np\u001b[39m.\u001b[39masarray(\u001b[39mself\u001b[39;49m\u001b[39m.\u001b[39;49m_value, dtype\u001b[39m=\u001b[39mdtype)\n",
            "\u001b[0;31mKeyboardInterrupt\u001b[0m: "
          ]
        }
      ],
      "source": [
        "@jax.jit\n",
        "def scan_apply(carry, x):\n",
        "\t(params, batch,) = carry\n",
        "\t(random_key,) = x\n",
        "\n",
        "\tbatch = train_state.apply_fn(params, random_key, batch)\n",
        "\treturn (params, batch), ()\n",
        "\n",
        "@partial(jax.jit, static_argnames=(\"iter_n\",))\n",
        "def train_step(random_key, train_state, batch, targets, iter_n):\n",
        "\tdef loss_fn(params):\n",
        "\t\trandom_keys = jax.random.split(random_key, iter_n)\n",
        "\t\t(params, predictions), _ = jax.lax.scan(\n",
        "\t\t\tscan_apply,\n",
        "\t\t\t(params, batch,),\n",
        "\t\t\t(random_keys,),\n",
        "\t\t\tlength=iter_n)\n",
        "\t\treturn loss_f(predictions, targets).mean(), predictions\n",
        "\n",
        "\t(loss, predictions), grads = jax.value_and_grad(loss_fn, has_aux=True)(train_state.params)\n",
        "\ttrain_state = train_state.apply_gradients(grads=grads)\n",
        "\n",
        "\treturn train_state, loss, predictions\n",
        "\n",
        "for i in range(8000+1):\n",
        "\trandom_key, random_subkey_1, random_subkey_2, random_subkey_3, random_subkey_4, random_subkey_5 = jax.random.split(random_key, 6)\n",
        "\n",
        "\tif USE_PATTERN_POOL:\n",
        "\t\tidx, indices, samples, targets = pool.sample(random_subkey_1, BATCH_SIZE)\n",
        "\t\tloss_rank = jnp.flip(jnp.argsort(loss_f(samples, targets)))\n",
        "\n",
        "\t\tidx = jnp.take(idx, loss_rank, axis=0)\n",
        "\t\tindices = jnp.take(indices, loss_rank, axis=0)\n",
        "\t\tsamples = jnp.take(samples, loss_rank, axis=0)\n",
        "\t\ttargets = jnp.take(targets, loss_rank, axis=0)\n",
        "\n",
        "\t\tindex = jax.random.randint(random_subkey_2, shape=(), minval=0, maxval=imgs_standardized.shape[0])\n",
        "\t\tindices = indices.at[0].set(index)\n",
        "\t\tsamples = samples.at[0].set(make_seed(genotypes[index]))\n",
        "\t\ttargets = targets.at[0].set(imgs_standardized[index])\n",
        "\t\tif DAMAGE_N:\n",
        "\t\t\tdamage = 1.0-make_circle_masks(random_subkey_3, DAMAGE_N, IMG_SIZE, IMG_SIZE)[..., None]\n",
        "\t\t\tsamples = samples.at[-DAMAGE_N:].set(samples[-DAMAGE_N:] * damage)\n",
        "\telse:\n",
        "\t\tsamples = jnp.repeat(seed, repeats=BATCH_SIZE, axis=0)\n",
        "\n",
        "\titer_n = jax.random.randint(random_subkey_4, shape=(), minval=64, maxval=96)\n",
        "\ttrain_state, loss, samples_ = train_step(random_subkey_5, train_state, samples, targets, int(iter_n))\n",
        "\n",
        "\tif USE_PATTERN_POOL:\n",
        "\t\tpool = pool.commit(idx, indices, samples_, targets)\n",
        "\n",
        "\tstep_i = len(loss_log)\n",
        "\tloss_log.append(loss)\n",
        "\n",
        "\tif step_i % 10 == 0:\n",
        "\t\tgenerate_pool_figures(pool, step_i)\n",
        "\tif step_i % 100 == 0:\n",
        "\t\tclear_output()\n",
        "\t\tvisualize_batch(\n",
        "\t\t\tunstandardize(samples, imgs_mean[indices], imgs_std[indices]),\n",
        "\t\t\tunstandardize(samples_, imgs_mean[indices], imgs_std[indices]),\n",
        "\t\t\tunstandardize(targets, imgs_mean[indices], imgs_std[indices]),\n",
        "\t\t\tstep_i,)\n",
        "\t\tplot_loss(loss_log)\n",
        "\t\texport_model(train_state.params, \"/project/output/train_log/%04d\"%step_i)\n",
        "\n",
        "\tprint(\"\\r step: %d, log10(loss): %.3f\"%(len(loss_log), np.log10(loss)), end=\"\")"
      ]
    },
    {
      "cell_type": "code",
      "execution_count": null,
      "metadata": {},
      "outputs": [],
      "source": []
    }
  ],
  "metadata": {
    "accelerator": "GPU",
    "colab": {
      "name": "Growing Neural Cellular Automata",
      "provenance": [],
      "toc_visible": true
    },
    "kernelspec": {
      "display_name": "Python 3 (ipykernel)",
      "language": "python",
      "name": "python3"
    },
    "language_info": {
      "codemirror_mode": {
        "name": "ipython",
        "version": 3
      },
      "file_extension": ".py",
      "mimetype": "text/x-python",
      "name": "python",
      "nbconvert_exporter": "python",
      "pygments_lexer": "ipython3",
      "version": "3.8.10"
    }
  },
  "nbformat": 4,
  "nbformat_minor": 0
}
