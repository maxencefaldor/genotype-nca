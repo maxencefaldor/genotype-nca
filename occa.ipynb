{
 "cells": [
  {
   "cell_type": "markdown",
   "metadata": {},
   "source": [
    "# Open-Ended Cellular Automata"
   ]
  },
  {
   "cell_type": "markdown",
   "metadata": {},
   "source": [
    "## Import"
   ]
  },
  {
   "cell_type": "code",
   "execution_count": 1,
   "metadata": {},
   "outputs": [],
   "source": [
    "from functools import partial\n",
    "\n",
    "import numpy as np\n",
    "import pandas as pd\n",
    "import jax\n",
    "import jax.numpy as jnp\n",
    "import flax.linen as nn\n",
    "from flax import traverse_util\n",
    "from flax.training.train_state import TrainState\n",
    "import optax\n",
    "\n",
    "from common import cell"
   ]
  },
  {
   "cell_type": "code",
   "execution_count": 2,
   "metadata": {},
   "outputs": [],
   "source": [
    "cell_state_size = 16\n",
    "n_perceive_free = 0\n",
    "update_size = 256\n",
    "fire_rate = 0.5\n",
    "\n",
    "n_iterations = 64\n",
    "batch_size = 32\n",
    "learning_rate = 2e-3"
   ]
  },
  {
   "cell_type": "markdown",
   "metadata": {},
   "source": [
    "## CA"
   ]
  },
  {
   "cell_type": "code",
   "execution_count": 3,
   "metadata": {},
   "outputs": [],
   "source": [
    "class CA(nn.Module):\n",
    "\tcell_state_size: int\n",
    "\tn_perceive_free: int\n",
    "\tupdate_size: int\n",
    "\tfire_rate: float\n",
    "\n",
    "\t@nn.compact\n",
    "\tdef __call__(self, random_key, x, step_size=1.0):\n",
    "\t\tpre_life_mask = cell.get_living_mask(x)\n",
    "\n",
    "\t\t# Perceive with depthwise convolution\n",
    "\t\ty = nn.Conv(features=3*self.cell_state_size, kernel_size=(3, 3), padding=\"SAME\", feature_group_count=self.cell_state_size, use_bias=False, name=\"perceive_frozen\")(x)\n",
    "\t\tif self.n_perceive_free > 0:\n",
    "\t\t\ty_free = nn.Conv(features=self.n_perceive_free*self.cell_state_size, kernel_size=(3, 3), padding=\"SAME\", feature_group_count=self.cell_state_size, use_bias=False, name=\"perceive_free\")(x)\n",
    "\t\t\ty = jnp.concatenate([y, y_free], axis=-1)\n",
    "\n",
    "\t\t# Update\n",
    "\t\tdx = nn.relu(nn.Conv(features=self.update_size, kernel_size=(1, 1))(y))\n",
    "\t\tdx = nn.Conv(features=self.cell_state_size, kernel_size=(1, 1))(dx) * step_size  # not initialized to zeros\n",
    "\t\tupdate_mask = jax.random.uniform(random_key, shape=(*x.shape[:-1], 1), minval=0., maxval=1.) <= self.fire_rate\n",
    "\t\tx += dx * update_mask\n",
    "\n",
    "\t\tpost_life_mask = cell.get_living_mask(x)\n",
    "\t\tlife_mask = pre_life_mask & post_life_mask\n",
    "\t\treturn jnp.clip(x * life_mask, a_min=0., a_max=1.)\n",
    "\n",
    "\t@partial(jax.jit, static_argnames=(\"self\",))\n",
    "\tdef _get_kernel(self, angle):\n",
    "\t\tidentify = jnp.array([0., 1., 0.])\n",
    "\t\tidentify = jnp.outer(identify, identify)\n",
    "\t\tdx = jnp.outer(jnp.array([1., 2., 1.]), jnp.array([-1., 0., 1.])) / 8.0  # Sobel filter\n",
    "\t\tdy = dx.T\n",
    "\t\tc, s = jnp.cos(angle), jnp.sin(angle)\n",
    "\t\tkernel = jnp.stack([identify, c*dx-s*dy, s*dx+c*dy], axis=-1)[:, :, None, :]\n",
    "\t\tkernel = jnp.tile(kernel, (1, 1, 1, self.cell_state_size))\n",
    "\t\treturn kernel\n",
    "\n",
    "\tdef set_kernel(self, params, angle=0.):\n",
    "\t\tkernel = self._get_kernel(angle)\n",
    "\t\tparams[\"params\"][\"perceive_frozen\"][\"kernel\"] = kernel\n",
    "\t\treturn params\n",
    "\n",
    "\tdef get_perceive_mask(self, params):\n",
    "\t\tflat_params = traverse_util.flatten_dict(params, sep=\"/\")\n",
    "\t\tflat_params = dict.fromkeys(flat_params, False)\n",
    "\n",
    "\t\tfor key in flat_params:\n",
    "\t\t\tif \"perceive_frozen\" in key:\n",
    "\t\t\t\tflat_params[key] = True\n",
    "\t\treturn traverse_util.unflatten_dict(flat_params, sep=\"/\")"
   ]
  },
  {
   "cell_type": "code",
   "execution_count": 4,
   "metadata": {},
   "outputs": [
    {
     "name": "stdout",
     "output_type": "stream",
     "text": [
      "Number of parameters in CA:  17088\n"
     ]
    }
   ],
   "source": [
    "random_key = jax.random.PRNGKey(0)\n",
    "\n",
    "ca = CA(cell_state_size=cell_state_size, n_perceive_free=n_perceive_free, update_size=update_size, fire_rate=fire_rate)\n",
    "\n",
    "# Generate random cells_states\n",
    "random_key, random_subkey = jax.random.split(random_key)\n",
    "fake_cells_state = jax.random.uniform(random_subkey, (128, 128, cell_state_size), minval=0., maxval=1.)\n",
    "fake_cells_state = fake_cells_state.at[..., :3].set(fake_cells_state[..., :3] * fake_cells_state[..., 3:4])\n",
    "\n",
    "random_key, random_subkey_1, random_subkey_2 = jax.random.split(random_key, 3)\n",
    "params = ca.init(random_subkey_1, random_subkey_2, fake_cells_state)\n",
    "params = ca.set_kernel(params)\n",
    "param_count = sum(x.size for x in jax.tree_util.tree_leaves(params))\n",
    "print(\"Number of parameters in CA: \", param_count)"
   ]
  },
  {
   "cell_type": "markdown",
   "metadata": {},
   "source": [
    "## Train state"
   ]
  },
  {
   "cell_type": "code",
   "execution_count": 32,
   "metadata": {},
   "outputs": [],
   "source": [
    "mask = cell.make_ellipse_mask((64, 64), 128, 128, 32, 32)"
   ]
  },
  {
   "cell_type": "code",
   "execution_count": 36,
   "metadata": {},
   "outputs": [],
   "source": [
    "# Train state\n",
    "tx = optax.chain(\n",
    "\toptax.clip_by_global_norm(1.0),\n",
    "\toptax.adam(learning_rate=learning_rate),)\n",
    "\n",
    "# Define cells_states\n",
    "cells_states = jnp.zeros((128, 128, cell_state_size))\n",
    "cells_states = cells_states.at[64, 64, :].set(1.)\n",
    "# random_key, random_subkey = jax.random.split(random_key)\n",
    "# mask = cell.make_ellipse_mask((64, 64), 128, 128, 32, 32)\n",
    "# cells_states = jax.random.uniform(random_subkey, (128, 128, cell_state_size), minval=0., maxval=1.)\n",
    "# cells_states = cells_states.at[..., :3].set(cells_states[..., :3] * mask[..., None])\n",
    "# cells_states = cells_states.at[..., 3].set(mask)\n",
    "\n",
    "train_state = TrainState.create(\n",
    "\tapply_fn=ca.apply,\n",
    "\tparams=cells_states,\n",
    "\ttx=tx)\n",
    "\n",
    "# Train\n",
    "@jax.jit\n",
    "def loss_f(cell_states_before, cell_states_after):\n",
    "\treturn jnp.mean(jnp.square(cell.to_rgba(cell_states_after) - cell.to_rgba(cell_states_before)), axis=(-1, -2, -3))\n",
    "\n",
    "loss_log = []\n",
    "\n",
    "@jax.jit\n",
    "def scan_apply(carry, random_key):\n",
    "\tcells_states_before = carry\n",
    "\tcells_states_after = train_state.apply_fn(params, random_key, cells_states_before)\n",
    "\treturn cells_states_after, ()\n",
    "\n",
    "@partial(jax.jit, static_argnames=(\"n_iterations\",))\n",
    "def train_step(random_key, train_state, n_iterations):\n",
    "\tdef loss_fn(cells_states_before):\n",
    "\t\trandom_keys = jax.random.split(random_key, batch_size*n_iterations)\n",
    "\t\trandom_keys = jnp.reshape(random_keys, (batch_size, n_iterations, -1))\n",
    "\t\tcells_states_before = jnp.repeat(cells_states_before[None, ...], repeats=batch_size, axis=0)\n",
    "\t\tcells_states_after, _ = jax.vmap(lambda x, y: jax.lax.scan(scan_apply, x, y, length=n_iterations))(cells_states_before, random_keys)\n",
    "\t\treturn loss_f(cells_states_before, cells_states_after).mean(), cells_states_after\n",
    "\n",
    "\t(loss, cells_states_after,), grads = jax.value_and_grad(loss_fn, has_aux=True)(train_state.params)\n",
    "\ttrain_state = train_state.apply_gradients(grads=grads)\n",
    "\n",
    "\treturn train_state, loss, cells_states_after"
   ]
  },
  {
   "cell_type": "code",
   "execution_count": 37,
   "metadata": {},
   "outputs": [
    {
     "name": "stdout",
     "output_type": "stream",
     "text": [
      "Loss: 0.0068814633\n",
      "Loss: 0.051341347\n",
      "Loss: 0.32576028\n",
      "Loss: 0.36982852\n",
      "Loss: 0.22431275\n",
      "Loss: 0.14005688\n",
      "Loss: 0.087659374\n",
      "Loss: 0.05493854\n",
      "Loss: 0.034628578\n",
      "Loss: 0.022136461\n",
      "Loss: 0.014506729\n",
      "Loss: 0.009813476\n",
      "Loss: 0.0069492217\n",
      "Loss: 0.005126725\n",
      "Loss: 0.0039826455\n",
      "Loss: 0.0032079953\n",
      "Loss: 0.002634244\n",
      "Loss: 0.0022537443\n",
      "Loss: 0.0019717831\n",
      "Loss: 0.001772495\n",
      "Loss: 0.0016112648\n",
      "Loss: 0.0014501424\n",
      "Loss: 0.0013363919\n",
      "Loss: 0.0012354015\n",
      "Loss: 0.0011600284\n",
      "Loss: 0.001076618\n",
      "Loss: 0.001021172\n",
      "Loss: 0.0009484771\n",
      "Loss: 0.00088432024\n",
      "Loss: 0.00081746094\n",
      "Loss: 0.0007799427\n",
      "Loss: 0.00075953826\n",
      "Loss: 0.0007199351\n",
      "Loss: 0.0006797118\n",
      "Loss: 0.000642028\n",
      "Loss: 0.0006243314\n",
      "Loss: 0.0005899579\n",
      "Loss: 0.00058605237\n",
      "Loss: 0.0005426289\n",
      "Loss: 0.0005248283\n",
      "Loss: 0.0004880961\n",
      "Loss: 0.000492913\n",
      "Loss: 0.000465012\n",
      "Loss: 0.0004721097\n",
      "Loss: 0.00044435123\n",
      "Loss: 0.0004253455\n",
      "Loss: 0.00042433495\n",
      "Loss: 0.0004025597\n",
      "Loss: 0.0003865855\n",
      "Loss: 0.00035615283\n",
      "Loss: 0.0003601134\n",
      "Loss: 0.00035608985\n",
      "Loss: 0.00033351386\n",
      "Loss: 0.0003208197\n",
      "Loss: 0.00032101976\n",
      "Loss: 0.0003119784\n",
      "Loss: 0.00030792152\n",
      "Loss: 0.00029311347\n",
      "Loss: 0.0002887397\n",
      "Loss: 0.00028158247\n",
      "Loss: 0.00026850752\n",
      "Loss: 0.000259428\n",
      "Loss: 0.00026686257\n",
      "Loss: 0.0002580051\n",
      "Loss: 0.00025011686\n",
      "Loss: 0.00024567248\n",
      "Loss: 0.00023744596\n",
      "Loss: 0.00023494425\n",
      "Loss: 0.00022989948\n"
     ]
    },
    {
     "ename": "KeyboardInterrupt",
     "evalue": "",
     "output_type": "error",
     "traceback": [
      "\u001b[0;31m---------------------------------------------------------------------------\u001b[0m",
      "\u001b[0;31mKeyboardInterrupt\u001b[0m                         Traceback (most recent call last)",
      "Cell \u001b[0;32mIn[37], line 6\u001b[0m\n\u001b[1;32m      4\u001b[0m \u001b[38;5;28;01mfor\u001b[39;00m i \u001b[38;5;129;01min\u001b[39;00m \u001b[38;5;28mrange\u001b[39m(\u001b[38;5;241m8000\u001b[39m):\n\u001b[1;32m      5\u001b[0m     random_key, random_subkey_1, random_subkey_2 \u001b[38;5;241m=\u001b[39m jax\u001b[38;5;241m.\u001b[39mrandom\u001b[38;5;241m.\u001b[39msplit(random_key, \u001b[38;5;241m3\u001b[39m)\n\u001b[0;32m----> 6\u001b[0m     train_state, loss, cells_states \u001b[38;5;241m=\u001b[39m \u001b[43mtrain_step\u001b[49m\u001b[43m(\u001b[49m\u001b[43mrandom_subkey_2\u001b[49m\u001b[43m,\u001b[49m\u001b[43m \u001b[49m\u001b[43mtrain_state\u001b[49m\u001b[43m,\u001b[49m\u001b[43m \u001b[49m\u001b[38;5;28;43mint\u001b[39;49m\u001b[43m(\u001b[49m\u001b[43mn_iterations\u001b[49m\u001b[43m)\u001b[49m\u001b[43m)\u001b[49m\n\u001b[1;32m      8\u001b[0m     \u001b[38;5;28;01mif\u001b[39;00m i \u001b[38;5;241m%\u001b[39m \u001b[38;5;241m100\u001b[39m \u001b[38;5;241m==\u001b[39m \u001b[38;5;241m0\u001b[39m:\n\u001b[1;32m      9\u001b[0m         \u001b[38;5;28mprint\u001b[39m(\u001b[38;5;124m\"\u001b[39m\u001b[38;5;124mLoss:\u001b[39m\u001b[38;5;124m\"\u001b[39m, loss)\n",
      "File \u001b[0;32m<string>:1\u001b[0m, in \u001b[0;36m<lambda>\u001b[0;34m(_cls)\u001b[0m\n",
      "\u001b[0;31mKeyboardInterrupt\u001b[0m: "
     ]
    }
   ],
   "source": [
    "from common.utils import jnp2pil\n",
    "\n",
    "\n",
    "for i in range(8000):\n",
    "    random_key, random_subkey_1, random_subkey_2 = jax.random.split(random_key, 3)\n",
    "    train_state, loss, cells_states = train_step(random_subkey_2, train_state, int(n_iterations))\n",
    "\n",
    "    if i % 100 == 0:\n",
    "        print(\"Loss:\", loss)\n",
    "        image = cell.to_rgb(train_state.params)\n",
    "        # save image\n",
    "        jnp2pil(image).save(\"/project/output/image_{}.png\".format(i))"
   ]
  },
  {
   "cell_type": "code",
   "execution_count": 31,
   "metadata": {},
   "outputs": [
    {
     "data": {
      "text/plain": [
       "Array([[False, False, False, ..., False, False, False],\n",
       "       [False, False, False, ..., False, False, False],\n",
       "       [False, False, False, ..., False, False, False],\n",
       "       ...,\n",
       "       [False, False, False, ..., False, False, False],\n",
       "       [False, False, False, ..., False, False, False],\n",
       "       [False, False, False, ..., False, False, False]], dtype=bool)"
      ]
     },
     "execution_count": 31,
     "metadata": {},
     "output_type": "execute_result"
    }
   ],
   "source": [
    "from common.cell import make_ellipse_mask\n",
    "from matplotlib import pyplot as plt\n",
    "\n",
    "\n",
    "make_ellipse_mask((64, 64), 128, 128, 32, 32)"
   ]
  }
 ],
 "metadata": {
  "kernelspec": {
   "display_name": "venv",
   "language": "python",
   "name": "python3"
  },
  "language_info": {
   "codemirror_mode": {
    "name": "ipython",
    "version": 3
   },
   "file_extension": ".py",
   "mimetype": "text/x-python",
   "name": "python",
   "nbconvert_exporter": "python",
   "pygments_lexer": "ipython3",
   "version": "3.10.12"
  }
 },
 "nbformat": 4,
 "nbformat_minor": 2
}
