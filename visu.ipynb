{
 "cells": [
  {
   "cell_type": "code",
   "execution_count": 5,
   "metadata": {},
   "outputs": [],
   "source": [
    "from functools import partial\n",
    "from pathlib import Path\n",
    "import pickle\n",
    "\n",
    "import numpy as np\n",
    "import jax\n",
    "import jax.numpy as jnp\n",
    "from flax.training.train_state import TrainState\n",
    "from flax import serialization\n",
    "import optax\n",
    "import pandas as pd\n",
    "\n",
    "from common.cell import to_rgba, make_circle_masks\n",
    "from common.pool import Pool\n",
    "from common.nca import NCA\n",
    "from common.vae import vae_dict, vae_loss\n",
    "from common.utils import Config, load_face, visualize_nca, plot_loss, export_model\n",
    "\n",
    "import tqdm\n",
    "import hydra\n",
    "from hydra.core.config_store import ConfigStore\n",
    "from omegaconf import OmegaConf\n",
    "import wandb\n",
    "import matplotlib.pyplot as plt"
   ]
  },
  {
   "cell_type": "code",
   "execution_count": 7,
   "metadata": {},
   "outputs": [],
   "source": [
    "# Load VAE\n",
    "vae_dir = Path(\"/project/output/vae/2023-08-07_115619_895943\")\n",
    "vae_config = OmegaConf.load(vae_dir / \".hydra\" / \"config.yaml\")\n",
    "\n",
    "# Load list_attr_celeba.txt file into a pandas DataFrame\n",
    "df_attr_celeba = pd.read_csv(vae_config.exp.attr_dir, sep=\"\\s+\", skiprows=1)\n",
    "df_attr_celeba.replace(to_replace=-1, value=0, inplace=True) # replace -1 by 0\n",
    "\n",
    "# Load list_landmarks_align_celeba.txt file into a pandas DataFrame\n",
    "df_landmarks_align_celeba = pd.read_csv(vae_config.exp.landmarks_dir, sep=\"\\s+\", skiprows=1)\n",
    "\n",
    "# Crop images from (218, 178) to (178, 178)\n",
    "df_landmarks_align_celeba[\"lefteye_y\"] = df_landmarks_align_celeba[\"lefteye_y\"] - (218 - 178) / 2\n",
    "df_landmarks_align_celeba[\"righteye_y\"] = df_landmarks_align_celeba[\"righteye_y\"] - (218 - 178) / 2\n",
    "df_landmarks_align_celeba[\"nose_y\"] = df_landmarks_align_celeba[\"nose_y\"] - (218 - 178) / 2\n",
    "df_landmarks_align_celeba[\"leftmouth_y\"] = df_landmarks_align_celeba[\"leftmouth_y\"] - (218 - 178) / 2\n",
    "df_landmarks_align_celeba[\"rightmouth_y\"] = df_landmarks_align_celeba[\"rightmouth_y\"] - (218 - 178) / 2\n",
    "\n",
    "# Resize images from (178, 178) to face_shape\n",
    "df_landmarks_align_celeba /= 178/vae_config.exp.face_shape[0]"
   ]
  },
  {
   "cell_type": "code",
   "execution_count": 8,
   "metadata": {},
   "outputs": [
    {
     "data": {
      "text/html": [
       "<div>\n",
       "<style scoped>\n",
       "    .dataframe tbody tr th:only-of-type {\n",
       "        vertical-align: middle;\n",
       "    }\n",
       "\n",
       "    .dataframe tbody tr th {\n",
       "        vertical-align: top;\n",
       "    }\n",
       "\n",
       "    .dataframe thead th {\n",
       "        text-align: right;\n",
       "    }\n",
       "</style>\n",
       "<table border=\"1\" class=\"dataframe\">\n",
       "  <thead>\n",
       "    <tr style=\"text-align: right;\">\n",
       "      <th></th>\n",
       "      <th>lefteye_x</th>\n",
       "      <th>lefteye_y</th>\n",
       "      <th>righteye_x</th>\n",
       "      <th>righteye_y</th>\n",
       "      <th>nose_x</th>\n",
       "      <th>nose_y</th>\n",
       "      <th>leftmouth_x</th>\n",
       "      <th>leftmouth_y</th>\n",
       "      <th>rightmouth_x</th>\n",
       "      <th>rightmouth_y</th>\n",
       "    </tr>\n",
       "  </thead>\n",
       "  <tbody>\n",
       "    <tr>\n",
       "      <th>000001.jpg</th>\n",
       "      <td>24.808989</td>\n",
       "      <td>32.000000</td>\n",
       "      <td>38.112360</td>\n",
       "      <td>33.438202</td>\n",
       "      <td>27.685393</td>\n",
       "      <td>43.865169</td>\n",
       "      <td>26.247191</td>\n",
       "      <td>47.460674</td>\n",
       "      <td>38.831461</td>\n",
       "      <td>48.179775</td>\n",
       "    </tr>\n",
       "    <tr>\n",
       "      <th>000002.jpg</th>\n",
       "      <td>24.808989</td>\n",
       "      <td>32.359551</td>\n",
       "      <td>38.471910</td>\n",
       "      <td>33.078652</td>\n",
       "      <td>29.123596</td>\n",
       "      <td>41.348315</td>\n",
       "      <td>25.168539</td>\n",
       "      <td>47.101124</td>\n",
       "      <td>38.831461</td>\n",
       "      <td>47.820225</td>\n",
       "    </tr>\n",
       "    <tr>\n",
       "      <th>000003.jpg</th>\n",
       "      <td>27.325843</td>\n",
       "      <td>33.078652</td>\n",
       "      <td>37.393258</td>\n",
       "      <td>30.921348</td>\n",
       "      <td>38.831461</td>\n",
       "      <td>38.831461</td>\n",
       "      <td>26.606742</td>\n",
       "      <td>48.898876</td>\n",
       "      <td>35.235955</td>\n",
       "      <td>49.617978</td>\n",
       "    </tr>\n",
       "    <tr>\n",
       "      <th>000004.jpg</th>\n",
       "      <td>25.887640</td>\n",
       "      <td>33.438202</td>\n",
       "      <td>38.831461</td>\n",
       "      <td>31.640449</td>\n",
       "      <td>36.314607</td>\n",
       "      <td>42.426966</td>\n",
       "      <td>25.528090</td>\n",
       "      <td>48.539326</td>\n",
       "      <td>36.314607</td>\n",
       "      <td>47.101124</td>\n",
       "    </tr>\n",
       "    <tr>\n",
       "      <th>000005.jpg</th>\n",
       "      <td>23.730337</td>\n",
       "      <td>33.797753</td>\n",
       "      <td>40.269663</td>\n",
       "      <td>33.078652</td>\n",
       "      <td>30.921348</td>\n",
       "      <td>35.595506</td>\n",
       "      <td>25.528090</td>\n",
       "      <td>45.662921</td>\n",
       "      <td>37.393258</td>\n",
       "      <td>46.741573</td>\n",
       "    </tr>\n",
       "    <tr>\n",
       "      <th>...</th>\n",
       "      <td>...</td>\n",
       "      <td>...</td>\n",
       "      <td>...</td>\n",
       "      <td>...</td>\n",
       "      <td>...</td>\n",
       "      <td>...</td>\n",
       "      <td>...</td>\n",
       "      <td>...</td>\n",
       "      <td>...</td>\n",
       "      <td>...</td>\n",
       "    </tr>\n",
       "    <tr>\n",
       "      <th>202595.jpg</th>\n",
       "      <td>24.808989</td>\n",
       "      <td>32.719101</td>\n",
       "      <td>38.831461</td>\n",
       "      <td>32.719101</td>\n",
       "      <td>32.000000</td>\n",
       "      <td>43.146067</td>\n",
       "      <td>26.247191</td>\n",
       "      <td>47.101124</td>\n",
       "      <td>37.393258</td>\n",
       "      <td>47.820225</td>\n",
       "    </tr>\n",
       "    <tr>\n",
       "      <th>202596.jpg</th>\n",
       "      <td>24.089888</td>\n",
       "      <td>33.078652</td>\n",
       "      <td>39.550562</td>\n",
       "      <td>33.078652</td>\n",
       "      <td>30.561798</td>\n",
       "      <td>43.505618</td>\n",
       "      <td>23.730337</td>\n",
       "      <td>46.741573</td>\n",
       "      <td>39.550562</td>\n",
       "      <td>46.741573</td>\n",
       "    </tr>\n",
       "    <tr>\n",
       "      <th>202597.jpg</th>\n",
       "      <td>24.808989</td>\n",
       "      <td>32.719101</td>\n",
       "      <td>38.471910</td>\n",
       "      <td>32.719101</td>\n",
       "      <td>33.078652</td>\n",
       "      <td>42.067416</td>\n",
       "      <td>24.449438</td>\n",
       "      <td>47.101124</td>\n",
       "      <td>39.191011</td>\n",
       "      <td>47.820225</td>\n",
       "    </tr>\n",
       "    <tr>\n",
       "      <th>202598.jpg</th>\n",
       "      <td>24.808989</td>\n",
       "      <td>32.719101</td>\n",
       "      <td>38.831461</td>\n",
       "      <td>32.719101</td>\n",
       "      <td>32.359551</td>\n",
       "      <td>42.067416</td>\n",
       "      <td>25.528090</td>\n",
       "      <td>47.820225</td>\n",
       "      <td>38.112360</td>\n",
       "      <td>47.101124</td>\n",
       "    </tr>\n",
       "    <tr>\n",
       "      <th>202599.jpg</th>\n",
       "      <td>24.449438</td>\n",
       "      <td>32.719101</td>\n",
       "      <td>39.191011</td>\n",
       "      <td>33.078652</td>\n",
       "      <td>29.123596</td>\n",
       "      <td>41.707865</td>\n",
       "      <td>26.966292</td>\n",
       "      <td>46.741573</td>\n",
       "      <td>37.033708</td>\n",
       "      <td>47.460674</td>\n",
       "    </tr>\n",
       "  </tbody>\n",
       "</table>\n",
       "<p>202599 rows × 10 columns</p>\n",
       "</div>"
      ],
      "text/plain": [
       "            lefteye_x  lefteye_y  righteye_x  righteye_y     nose_x  \\\n",
       "000001.jpg  24.808989  32.000000   38.112360   33.438202  27.685393   \n",
       "000002.jpg  24.808989  32.359551   38.471910   33.078652  29.123596   \n",
       "000003.jpg  27.325843  33.078652   37.393258   30.921348  38.831461   \n",
       "000004.jpg  25.887640  33.438202   38.831461   31.640449  36.314607   \n",
       "000005.jpg  23.730337  33.797753   40.269663   33.078652  30.921348   \n",
       "...               ...        ...         ...         ...        ...   \n",
       "202595.jpg  24.808989  32.719101   38.831461   32.719101  32.000000   \n",
       "202596.jpg  24.089888  33.078652   39.550562   33.078652  30.561798   \n",
       "202597.jpg  24.808989  32.719101   38.471910   32.719101  33.078652   \n",
       "202598.jpg  24.808989  32.719101   38.831461   32.719101  32.359551   \n",
       "202599.jpg  24.449438  32.719101   39.191011   33.078652  29.123596   \n",
       "\n",
       "               nose_y  leftmouth_x  leftmouth_y  rightmouth_x  rightmouth_y  \n",
       "000001.jpg  43.865169    26.247191    47.460674     38.831461     48.179775  \n",
       "000002.jpg  41.348315    25.168539    47.101124     38.831461     47.820225  \n",
       "000003.jpg  38.831461    26.606742    48.898876     35.235955     49.617978  \n",
       "000004.jpg  42.426966    25.528090    48.539326     36.314607     47.101124  \n",
       "000005.jpg  35.595506    25.528090    45.662921     37.393258     46.741573  \n",
       "...               ...          ...          ...           ...           ...  \n",
       "202595.jpg  43.146067    26.247191    47.101124     37.393258     47.820225  \n",
       "202596.jpg  43.505618    23.730337    46.741573     39.550562     46.741573  \n",
       "202597.jpg  42.067416    24.449438    47.101124     39.191011     47.820225  \n",
       "202598.jpg  42.067416    25.528090    47.820225     38.112360     47.101124  \n",
       "202599.jpg  41.707865    26.966292    46.741573     37.033708     47.460674  \n",
       "\n",
       "[202599 rows x 10 columns]"
      ]
     },
     "execution_count": 8,
     "metadata": {},
     "output_type": "execute_result"
    }
   ],
   "source": [
    "df_landmarks_align_celeba"
   ]
  },
  {
   "cell_type": "code",
   "execution_count": 4,
   "metadata": {},
   "outputs": [
    {
     "name": "stderr",
     "output_type": "stream",
     "text": [
      " 90%|█████████ | 9/10 [00:07<00:00,  1.18it/s]\n"
     ]
    }
   ],
   "source": [
    "dataset_size = df_attr_celeba.shape[0]\n",
    "dataset_size = 10\n",
    "if vae_config.exp.grayscale:\n",
    "    dataset_phenotypes_target = np.zeros((dataset_size, *vae_config.exp.face_shape, 1))\n",
    "else:\n",
    "    dataset_phenotypes_target = np.zeros((dataset_size, *vae_config.exp.face_shape, 3))\n",
    "for i, (index, _,) in tqdm.tqdm(enumerate(df_attr_celeba.iterrows()), total=dataset_size):\n",
    "    dataset_phenotypes_target[i] = load_face(vae_config.exp.dataset_dir + index, vae_config.exp.face_shape, vae_config.exp.grayscale)\n",
    "    if i == dataset_size-1:\n",
    "        break"
   ]
  },
  {
   "cell_type": "code",
   "execution_count": 14,
   "metadata": {},
   "outputs": [
    {
     "name": "stderr",
     "output_type": "stream",
     "text": [
      "Clipping input data to the valid range for imshow with RGB data ([0..1] for floats or [0..255] for integers).\n"
     ]
    },
    {
     "data": {
      "text/plain": [
       "[<matplotlib.lines.Line2D at 0x7faa783ba440>]"
      ]
     },
     "execution_count": 14,
     "metadata": {},
     "output_type": "execute_result"
    },
    {
     "data": {
      "image/png": "[encoded data removed]",
      "text/plain": [
       "<Figure size 640x480 with 1 Axes>"
      ]
     },
     "metadata": {},
     "output_type": "display_data"
    }
   ],
   "source": [
    "plt.imshow(dataset_phenotypes_target[0])\n",
    "plt.plot([25, 38], [32, 33])"
   ]
  },
  {
   "cell_type": "code",
   "execution_count": 15,
   "metadata": {},
   "outputs": [
    {
     "data": {
      "text/plain": [
       "<matplotlib.image.AxesImage at 0x7faa78207d30>"
      ]
     },
     "execution_count": 15,
     "metadata": {},
     "output_type": "execute_result"
    },
    {
     "data": {
      "image/png": "[encoded data removed]",
      "text/plain": [
       "<Figure size 640x480 with 1 Axes>"
      ]
     },
     "metadata": {},
     "output_type": "display_data"
    }
   ],
   "source": [
    "plt.imshow(dataset_phenotypes_target[1])"
   ]
  }
 ],
 "metadata": {
  "kernelspec": {
   "display_name": "venv",
   "language": "python",
   "name": "python3"
  },
  "language_info": {
   "codemirror_mode": {
    "name": "ipython",
    "version": 3
   },
   "file_extension": ".py",
   "mimetype": "text/x-python",
   "name": "python",
   "nbconvert_exporter": "python",
   "pygments_lexer": "ipython3",
   "version": "3.10.12"
  },
  "orig_nbformat": 4
 },
 "nbformat": 4,
 "nbformat_minor": 2
}
