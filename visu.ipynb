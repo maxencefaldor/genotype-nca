{
 "cells": [
  {
   "cell_type": "code",
   "execution_count": 1,
   "metadata": {},
   "outputs": [],
   "source": [
    "from functools import partial\n",
    "from pathlib import Path\n",
    "import pickle\n",
    "\n",
    "import numpy as np\n",
    "import jax\n",
    "import jax.numpy as jnp\n",
    "from flax.training.train_state import TrainState\n",
    "from flax import serialization\n",
    "import optax\n",
    "import pandas as pd\n",
    "\n",
    "from common.cell import to_rgba, make_circle_masks\n",
    "from common.pool import Pool\n",
    "from common.nca import NCA\n",
    "from common.vae import vae_dict, vae_loss\n",
    "from common.utils import Config, load_face, visualize_nca, plot_loss, export_model\n",
    "\n",
    "import tqdm\n",
    "import hydra\n",
    "from hydra.core.config_store import ConfigStore\n",
    "from omegaconf import OmegaConf\n",
    "import wandb"
   ]
  },
  {
   "cell_type": "code",
   "execution_count": 31,
   "metadata": {},
   "outputs": [],
   "source": [
    "import matplotlib.pyplot as plt\n",
    "height, width = 64, 64\n",
    "h = jnp.arange(1, height+1)\n",
    "w = jnp.arange(1, width+1)"
   ]
  }
 ],
 "metadata": {
  "kernelspec": {
   "display_name": "venv",
   "language": "python",
   "name": "python3"
  },
  "language_info": {
   "codemirror_mode": {
    "name": "ipython",
    "version": 3
   },
   "file_extension": ".py",
   "mimetype": "text/x-python",
   "name": "python",
   "nbconvert_exporter": "python",
   "pygments_lexer": "ipython3",
   "version": "3.10.12"
  },
  "orig_nbformat": 4
 },
 "nbformat": 4,
 "nbformat_minor": 2
}
