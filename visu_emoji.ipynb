{
 "cells": [
  {
   "cell_type": "markdown",
   "metadata": {},
   "source": [
    "# Visualization"
   ]
  },
  {
   "cell_type": "markdown",
   "metadata": {},
   "source": [
    "## Import"
   ]
  },
  {
   "cell_type": "code",
   "execution_count": 1,
   "metadata": {},
   "outputs": [],
   "source": [
    "from functools import partial\n",
    "\n",
    "import jax\n",
    "import jax.numpy as jnp\n",
    "from flax.training.train_state import TrainState\n",
    "import optax\n",
    "\n",
    "from common.cell import to_rgba, to_rgb\n",
    "from common.pool import Pool\n",
    "from common.nca import NCA as NCA\n",
    "from common.utils import load_emoji, load_params, jnp2pil\n",
    "\n",
    "from omegaconf import OmegaConf\n",
    "import matplotlib.pyplot as plt"
   ]
  },
  {
   "cell_type": "markdown",
   "metadata": {},
   "source": [
    "## Load experiment"
   ]
  },
  {
   "cell_type": "code",
   "execution_count": 2,
   "metadata": {},
   "outputs": [],
   "source": [
    "from pathlib import Path\n",
    "\n",
    "\n",
    "run_path = Path(\"/project/output/emoji/2023-08-17_154540_095308\")\n",
    "config = OmegaConf.load(run_path / \".hydra\" / \"config.yaml\")"
   ]
  },
  {
   "cell_type": "markdown",
   "metadata": {},
   "source": [
    "## Main"
   ]
  },
  {
   "cell_type": "code",
   "execution_count": 3,
   "metadata": {},
   "outputs": [],
   "source": [
    "# Init a random key\n",
    "random_key = jax.random.PRNGKey(config.seed)\n",
    "\n",
    "# Dataset\n",
    "dataset_phenotypes_target = jnp.stack([load_emoji(emoji, config.exp.emoji_size, config.exp.emoji_padding) for emoji in config.exp.emojis], axis=0)\n",
    "height, width = dataset_phenotypes_target[0].shape[:2]\n",
    "\n",
    "# Cell states\n",
    "cell_state_size = config.exp.phenotype_size + 1 + config.exp.hidden_size\n",
    "\n",
    "@jax.jit\n",
    "def phenotype_target_idx_to_genotype(phenotype_target_idx):\n",
    "\tif config.exp.n_emojis == 1:\n",
    "\t\treturn jnp.array([])\n",
    "\telse:\n",
    "\t\treturn jax.nn.one_hot(phenotype_target_idx, num_classes=config.exp.n_emojis)\n",
    "\n",
    "@jax.jit\n",
    "def init_cell_state():\n",
    "\tcell_state = jnp.zeros((config.exp.phenotype_size+1+config.exp.hidden_size,))  # init cell_state\n",
    "\tcell_state = cell_state.at[config.exp.phenotype_size:].set(1.0)  # set alpha and hidden channels to 1.0\n",
    "\treturn cell_state\n",
    "\n",
    "@jax.jit\n",
    "def init_cells_state(_):\n",
    "\tcell_state = init_cell_state()\n",
    "\tcells_state = jnp.zeros((height, width, cell_state_size,))\n",
    "\treturn cells_state.at[height//2, width//2].set(cell_state)\n",
    "\n",
    "# Trainset\n",
    "trainset_phenotypes_target = dataset_phenotypes_target[:config.exp.n_emojis]\n",
    "trainset_genotypes_target = jax.vmap(phenotype_target_idx_to_genotype)(jnp.arange(config.exp.n_emojis))\n",
    "\n",
    "# Pool\n",
    "phenotypes_target_idx_init = jax.random.choice(random_key, trainset_phenotypes_target.shape[0], shape=(config.exp.pool_size,), replace=True)\n",
    "cells_states_init = jax.vmap(init_cells_state)(phenotypes_target_idx_init)\n",
    "genotypes_target_init = jax.vmap(phenotype_target_idx_to_genotype)(phenotypes_target_idx_init)\n",
    "pool = Pool(cells_states=cells_states_init, phenotypes_target_idx=phenotypes_target_idx_init)\n",
    "\n",
    "# NCA\n",
    "nca = NCA(cell_state_size=cell_state_size, fire_rate=config.exp.fire_rate)\n",
    "random_key, random_subkey_1, random_subkey_2 = jax.random.split(random_key, 3)\n",
    "params = nca.init(random_subkey_1, random_subkey_2, cells_states_init[0], genotypes_target_init[0])\n",
    "params = nca.set_kernel(params)\n",
    "\n",
    "# Train state\n",
    "lr_sched = optax.linear_schedule(init_value=config.exp.learning_rate, end_value=0.1*config.exp.learning_rate, transition_steps=2000)\n",
    "\n",
    "def zero_grads():\n",
    "\tdef init_fn(_):\n",
    "\t\treturn ()\n",
    "\n",
    "\tdef update_fn(updates, state, params=None):\n",
    "\t\treturn jax.jax.tree_util.tree_map(jnp.zeros_like, updates), ()\n",
    "\treturn optax.GradientTransformation(init_fn, update_fn)\n",
    "\n",
    "optimizer = optax.chain(\n",
    "\toptax.clip_by_global_norm(1.0),\n",
    "\toptax.adam(learning_rate=lr_sched),)\n",
    "tx = optax.multi_transform({False: optimizer, True: zero_grads()},\n",
    "\t\t\t\t\t\t\tnca.get_perceive_mask(params))\n",
    "\n",
    "train_state = TrainState.create(\n",
    "\tapply_fn=nca.apply,\n",
    "\tparams=params,\n",
    "\ttx=tx)\n",
    "\n",
    "# Train\n",
    "@jax.jit\n",
    "def loss_f(cell_states, phenotype):\n",
    "\treturn jnp.mean(jnp.square(to_rgba(cell_states) - phenotype), axis=(-1, -2, -3))\n",
    "\n",
    "loss_log = []\n",
    "\n",
    "@jax.jit\n",
    "def scan_apply(carry, random_key):\n",
    "\t(params, cells_states, genotype_target,) = carry\n",
    "\tcells_states_ = train_state.apply_fn(params, random_key, cells_states, genotype_target)\n",
    "\treturn (params, cells_states_, genotype_target,), ()\n",
    "\n",
    "@partial(jax.jit, static_argnames=(\"n_iterations\",))\n",
    "def train_step(random_key, train_state, cells_states, genotype_target, phenotypes_target, n_iterations):\n",
    "\tdef loss_fn(params):\n",
    "\t\trandom_keys = jax.random.split(random_key, n_iterations)\n",
    "\t\t(params, cells_states_, _,), _ = jax.lax.scan(scan_apply, (params, cells_states, genotype_target,), random_keys, length=n_iterations)\n",
    "\t\treturn loss_f(cells_states_, phenotypes_target).mean(), cells_states_\n",
    "\n",
    "\t(loss, cells_states_), grads = jax.value_and_grad(loss_fn, has_aux=True)(train_state.params)\n",
    "\ttrain_state = train_state.apply_gradients(grads=grads)\n",
    "\n",
    "\treturn train_state, loss, cells_states_"
   ]
  },
  {
   "cell_type": "markdown",
   "metadata": {},
   "source": [
    "## Load NCA"
   ]
  },
  {
   "cell_type": "code",
   "execution_count": 4,
   "metadata": {},
   "outputs": [],
   "source": [
    "i = 5600\n",
    "params = load_params(params, run_path / \"nca_{:07d}.pickle\".format(i))\n",
    "\n",
    "train_state = TrainState.create(\n",
    "    apply_fn=nca.apply,\n",
    "    params=params,\n",
    "    tx=tx)"
   ]
  },
  {
   "cell_type": "markdown",
   "metadata": {},
   "source": [
    "## Visualize"
   ]
  },
  {
   "cell_type": "code",
   "execution_count": 5,
   "metadata": {},
   "outputs": [],
   "source": [
    "n_iterations = 64\n",
    "cells_state = init_cells_state(None)\n",
    "phenotype_target = trainset_phenotypes_target[0]\n",
    "genotype_target = trainset_genotypes_target[0]\n",
    "\n",
    "random_keys = jax.random.split(random_key, n_iterations)\n",
    "(params, cells_state_, _,), _ = jax.lax.scan(\n",
    "    scan_apply,\n",
    "    (params, cells_state, genotype_target,),\n",
    "    random_keys,\n",
    "    length=n_iterations,)"
   ]
  },
  {
   "cell_type": "code",
   "execution_count": 6,
   "metadata": {},
   "outputs": [
    {
     "data": {
      "text/plain": [
       "<matplotlib.image.AxesImage at 0x7fa3ec736d10>"
      ]
     },
     "execution_count": 6,
     "metadata": {},
     "output_type": "execute_result"
    },
    {
     "data": {
      "image/png": "[encoded data removed]",
      "text/plain": [
       "<Figure size 640x480 with 1 Axes>"
      ]
     },
     "metadata": {},
     "output_type": "display_data"
    }
   ],
   "source": [
    "plt.imshow(jnp2pil(to_rgb(cells_state)))"
   ]
  },
  {
   "cell_type": "code",
   "execution_count": 7,
   "metadata": {},
   "outputs": [
    {
     "data": {
      "text/plain": [
       "<matplotlib.image.AxesImage at 0x7fa3ec31e5c0>"
      ]
     },
     "execution_count": 7,
     "metadata": {},
     "output_type": "execute_result"
    },
    {
     "data": {
      "image/png": "[encoded data removed]",
      "text/plain": [
       "<Figure size 640x480 with 1 Axes>"
      ]
     },
     "metadata": {},
     "output_type": "display_data"
    }
   ],
   "source": [
    "plt.imshow(jnp2pil(to_rgb(cells_state_)))"
   ]
  }
 ],
 "metadata": {
  "kernelspec": {
   "display_name": "venv",
   "language": "python",
   "name": "python3"
  },
  "language_info": {
   "codemirror_mode": {
    "name": "ipython",
    "version": 3
   },
   "file_extension": ".py",
   "mimetype": "text/x-python",
   "name": "python",
   "nbconvert_exporter": "python",
   "pygments_lexer": "ipython3",
   "version": "3.10.12"
  },
  "orig_nbformat": 4
 },
 "nbformat": 4,
 "nbformat_minor": 2
}
